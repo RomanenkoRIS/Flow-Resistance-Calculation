{
  "nbformat": 4,
  "nbformat_minor": 0,
  "metadata": {
    "colab": {
      "provenance": [],
      "authorship_tag": "ABX9TyOm/Z5OaBqWmXTSARuKM71d",
      "include_colab_link": true
    },
    "kernelspec": {
      "name": "python3",
      "display_name": "Python 3"
    },
    "language_info": {
      "name": "python"
    }
  },
  "cells": [
    {
      "cell_type": "markdown",
      "metadata": {
        "id": "view-in-github",
        "colab_type": "text"
      },
      "source": [
        "<a href=\"https://colab.research.google.com/github/RomanenkoRIS/Flow-Resistance-Calculation/blob/master/Report.ipynb\" target=\"_parent\"><img src=\"https://colab.research.google.com/assets/colab-badge.svg\" alt=\"Open In Colab\"/></a>"
      ]
    },
    {
      "cell_type": "markdown",
      "source": [
        "###Carl’s spells"
      ],
      "metadata": {
        "id": "7WhzN4ZWBK_T"
      }
    },
    {
      "cell_type": "markdown",
      "source": [
        "**Problem Statement**\n",
        "\n",
        "Carl, a magician with incredible magical power. Each of his spells corresponds to a specific letter of the\n",
        "Latin alphabet. Using his spells, he can create a magic string by following the algorithm below:\n",
        "\n",
        "1. Carl starts with an empty string.\n",
        "2. Then he performs the next step N times, where N is the length of the string.\n",
        "3. Carl chooses a letter that corresponds to his spell at this step and adds it to the string S, either from the left or the right.\n",
        "\n",
        "For example, one way to generate a magic string of length N = 4 is:\n",
        "1. ” ”: an empty string.\n",
        "2. ”a”: add letter a.\n",
        "3. ”ab”: add letter b to the right.\n",
        "4. ”cab”: add letter c to the left.\n",
        "5. ”cabd”: add letter d to the right.\n",
        "\n",
        "\n",
        "Additionally, the following strings are magical: ”a”, ”ba”, ”ab”, ”bac”, and ”ihf cbadeg”. However, these strings are not: ”z”, ”aa”, ”gg”, ”ezmid”, ”yaaf k”, and ”throne”. Your task is to determine whether a given string S is a magic string of Carl.\n",
        "\n",
        "**Inputs**\n",
        "\n",
        "The first line contains an integer T - the number of input sets. Then follow T strings Si, 1 ≤ i ≤ T, each on a new line. String Si consists of lowercase letters of the Latin alphabet.\n",
        "\n",
        "\n",
        "**Outputs**\n",
        "\n",
        "Output T lines. Each line should contain the answer to the task. Print YES if Si is Carl’s magic string, and NO otherwise.\n",
        "Constraints\n",
        "\n",
        "1 ≤ T ≤ 10^5\n",
        "\n",
        "1 ≤ ∥Si∥ ≤ 26"
      ],
      "metadata": {
        "id": "hw1szGVCEzhB"
      }
    },
    {
      "cell_type": "code",
      "source": [
        "alphabet = 'abcdefghijklmnopqrstuvwxyz'\n",
        "\n",
        "def t_input():\n",
        "    T = 'NO'\n",
        "    while not isinstance(T, int) or not in_range:\n",
        "        try:\n",
        "            T = int(input(\"Please enter the number of input sets: \"))\n",
        "            in_range = 1 <= T <= 10**5\n",
        "\n",
        "        except ValueError:\n",
        "            print(\"Invalid integer!\")\n",
        "\n",
        "    return T\n",
        "\n",
        "def Si_input(T,alphabet):\n",
        "\n",
        "    Si_dict = {}\n",
        "\n",
        "    for t in range(1,T+1):\n",
        "        valid_format_or_length = False\n",
        "\n",
        "        while not valid_format_or_length:\n",
        "\n",
        "            S = input(f\"Please enter magic string # {t}: \")\n",
        "            valid_format_or_length = all([len(set(i) & set(alphabet)) > 0  for i in S]) and len(S) >= 1 and len(S) <= len(alphabet)\n",
        "\n",
        "            if not valid_format_or_length:\n",
        "                print(\"The length of the input string must be >=1 and <= 26 and consist of lowercase letters of the Latin alphabet!\")\n",
        "\n",
        "            else:\n",
        "                Si_dict[S]= 'NO'\n",
        "    return Si_dict\n",
        "\n",
        "\n",
        "def remove(alphabet,ind,data):\n",
        "    remove_ind = alphabet[ind]\n",
        "    data = data.replace(remove_ind,'')\n",
        "    return data\n",
        "\n",
        "def magical_string_check(magic_str,alphabet):\n",
        "\n",
        "    len_data = len(magic_str)\n",
        "    magic = 'NO'\n",
        "\n",
        "    # 1. Chech for unique values\n",
        "    if len(set(magic_str)) == len_data:\n",
        "\n",
        "        # 2. Check for missing letters\n",
        "        if set(magic_str) == set(alphabet[:len_data]):\n",
        "\n",
        "            # 3. Check order\n",
        "            while len(magic_str) > 0:\n",
        "                str_to_num =  [alphabet.index(i) for i in magic_str]\n",
        "                first   =    str_to_num[0]\n",
        "                last    =    str_to_num[-1]\n",
        "\n",
        "                if max(str_to_num) == first: magic_str = remove(alphabet,first,magic_str)\n",
        "                elif max(str_to_num) == last: magic_str = remove(alphabet,last,magic_str)\n",
        "                else: break # Max index in the middle!\n",
        "\n",
        "    if magic_str == '':  magic = 'YES'\n",
        "    return magic\n",
        "\n",
        "def run_test(alphabet):\n",
        "\n",
        "    T_input = t_input()\n",
        "    Si = Si_input(T_input,alphabet)\n",
        "\n",
        "\n",
        "    for key in Si:\n",
        "        Si[key] = magical_string_check(key,alphabet)\n",
        "    return Si"
      ],
      "metadata": {
        "id": "xO-_6kOgdkU6"
      },
      "execution_count": null,
      "outputs": []
    },
    {
      "cell_type": "code",
      "source": [
        "Si_check = run_test(alphabet)\n",
        "print('******************')\n",
        "print(Si_check)"
      ],
      "metadata": {
        "colab": {
          "base_uri": "https://localhost:8080/"
        },
        "id": "lUJxYFxV9Xxn",
        "outputId": "d02202a5-c517-4f55-eb4a-afede6f70f46"
      },
      "execution_count": null,
      "outputs": [
        {
          "output_type": "stream",
          "name": "stdout",
          "text": [
            "Please enter the number of input sets: 6\n",
            "Please enter magic string # 1: abc\n",
            "Please enter magic string # 2: cba\n",
            "Please enter magic string # 3: aaaaaa\n",
            "Please enter magic string # 4: ecabd\n",
            "Please enter magic string # 5: qwerty\n",
            "Please enter magic string # 6: eabcdf\n",
            "******************\n",
            "{'abc': 'YES', 'cba': 'YES', 'aaaaaa': 'NO', 'ecabd': 'YES', 'qwerty': 'NO', 'eabcdf': 'YES'}\n"
          ]
        }
      ]
    },
    {
      "cell_type": "code",
      "source": [
        "Si_check = run_test(alphabet)\n",
        "print('******************')\n",
        "print(Si_check)"
      ],
      "metadata": {
        "colab": {
          "base_uri": "https://localhost:8080/"
        },
        "id": "MtsIEm9LA2-h",
        "outputId": "d741f264-0758-4807-86ad-6cc5642d6714"
      },
      "execution_count": null,
      "outputs": [
        {
          "output_type": "stream",
          "name": "stdout",
          "text": [
            "Please enter the number of input sets: 1\n",
            "Please enter magic string # 1: hfedabcg\n",
            "******************\n",
            "{'hfedabcg': 'YES'}\n"
          ]
        }
      ]
    },
    {
      "cell_type": "code",
      "source": [
        "Si_check = run_test(alphabet)\n",
        "print('******************')\n",
        "print(Si_check)"
      ],
      "metadata": {
        "colab": {
          "base_uri": "https://localhost:8080/"
        },
        "id": "0qcLgVW6BBVj",
        "outputId": "91c692cf-1d58-4aaa-9346-c1e16eae146f"
      },
      "execution_count": null,
      "outputs": [
        {
          "output_type": "stream",
          "name": "stdout",
          "text": [
            "Please enter the number of input sets: 1\n",
            "Please enter magic string # 1: acdb\n",
            "******************\n",
            "{'acdb': 'NO'}\n"
          ]
        }
      ]
    },
    {
      "cell_type": "markdown",
      "source": [],
      "metadata": {
        "id": "xQlwfCPdBTiz"
      }
    },
    {
      "cell_type": "markdown",
      "source": [
        "### Mirana and Arrows"
      ],
      "metadata": {
        "id": "UgzcVPDaCS0p"
      }
    },
    {
      "cell_type": "markdown",
      "source": [
        "**Problem Statement**\n",
        "\n",
        "In the world of Mirana’s fantastic adventures, the brave archer found herself facing a great challenge. She has N arrows, each of which has a defined distance it can fly. Mirana is skilled with the bow and has extensive shooting experience, but she needs to know the maximum number of arrows she can release to avoid peril.\n",
        "\n",
        "Mirana can start releasing arrows from any index and take the next arrow from the list. She starts from the chosen index j and shoots arrow j to the distance Aj . After that, when the arrow reaches its target, she takes the next arrow with index j + 1 and shoots it to the distance Aj+1, and so on until the last arrow with index N. However, Mirana cannot take the next arrow until the current one reaches its target.\n",
        "\n",
        "However, there is a limitation: if the total distance the arrows fly exceeds K, Mirana will perish. Your\n",
        "task is to find the maximum number of arrows Mirana can release without risking her life.\n",
        "\n",
        "**Inputs**\n",
        "\n",
        "The first line contains two integers N and K, where N is the number of arrows and K is the maximum cumulative distance the arrows can fly. The next line contains N integers Ai representing the distances the arrows can fly.\n",
        "\n",
        "**Outputs**\n",
        "\n",
        "A single integer - the answer to the problem, the maximum number of arrows Mirana can release to avoid peril.\n",
        "\n",
        "\n",
        "Constraints\n",
        "\n",
        "1 ≤ N ≤ 10^5\n",
        "\n",
        "1 ≤ K ≤ 10^9\n",
        "\n",
        "1 ≤ ∥Ai∥ ≤ 10^9"
      ],
      "metadata": {
        "id": "Y7Z-Bk9mD-Sd"
      }
    },
    {
      "cell_type": "code",
      "execution_count": 1,
      "metadata": {
        "id": "mUWZy9Y75Z8f"
      },
      "outputs": [],
      "source": [
        "from os import killpg\n",
        "import itertools\n",
        "\n",
        "\n",
        "def  N_input():\n",
        "\n",
        "    N = ''\n",
        "\n",
        "    while not isinstance(N, int) or not N_in_range:\n",
        "        try:\n",
        "            N = int(input(\"The number of arrows: \"))\n",
        "            N_in_range = 1 <= N <= 10**5\n",
        "\n",
        "            if not N_in_range: print('The value must be from 1 to 10^5!')\n",
        "\n",
        "        except ValueError: print('Please enter an integer!')\n",
        "\n",
        "    return N\n",
        "\n",
        "\n",
        "def  K_input():\n",
        "\n",
        "    K = ''\n",
        "\n",
        "    while not isinstance(K, int) or not K_in_range:\n",
        "        try:\n",
        "            K = int(input(\"The maximum cumulative distance the arrows can fly: \"))\n",
        "            K_in_range = 1 <= K <= 10**9\n",
        "\n",
        "            if not K_in_range: print('The value must be from 1 to 10^9!')\n",
        "\n",
        "        except ValueError: print('Please enter an integer!')\n",
        "\n",
        "    return K\n",
        "\n",
        "\n",
        "def Ai_input(N):\n",
        "\n",
        "    Ai = ['']\n",
        "\n",
        "    while not all([isinstance(a,int) for a in Ai]) or not Ai_in_range or len(Ai) != N:\n",
        "        try:\n",
        "            Ai = input(f\"Enter {N} integers representing the distances the arrows can fly: \")\n",
        "            Ai = Ai.split()\n",
        "            Ai = [int(a) for a in Ai]\n",
        "            Ai_in_range = all([1 <= a <= 10**9 for a in Ai])\n",
        "\n",
        "            if not Ai_in_range: print('Each value must be from 1 to 10^9!')\n",
        "\n",
        "            if len(Ai) != N: print(f'Please enter {N} integers!')\n",
        "\n",
        "        except ValueError: print('Please enter only integers!')\n",
        "\n",
        "    return Ai\n",
        "\n",
        "\n",
        "def combine_arrows(numbers, max_sum):\n",
        "\n",
        "    for n in range(len(numbers),0,-1):\n",
        "        # Generate all combinations of n numbers from the list\n",
        "        combinations = list(itertools.combinations(numbers, n))\n",
        "\n",
        "        for combo in combinations:\n",
        "            if sum(combo) == max_sum:\n",
        "                # Return maximum number of numbers the sum of which is equal to max_sum\n",
        "                print(f'Maximum number of arrows: {n}')\n",
        "                print(f'The sum of the following numbers is equal to {max_sum}: {combo}')\n",
        "                return n\n",
        "\n",
        "    # No combinations with sum equal to max_sum\n",
        "    print('Maximum number of arrows: None')\n",
        "    return None"
      ]
    },
    {
      "cell_type": "code",
      "source": [
        "N = N_input()\n",
        "K = K_input()\n",
        "Ai = Ai_input(N)\n",
        "n = combine_arrows(Ai, K)"
      ],
      "metadata": {
        "colab": {
          "base_uri": "https://localhost:8080/"
        },
        "id": "JZshYyaGCqMf",
        "outputId": "0af5c21c-ca44-4a3a-fd17-c3eb7e8bf03d"
      },
      "execution_count": 2,
      "outputs": [
        {
          "output_type": "stream",
          "name": "stdout",
          "text": [
            "The number of arrows: 3\n",
            "The maximum cumulative distance the arrows can fly: 3\n",
            "Enter 3 integers representing the distances the arrows can fly: 1 2 3\n",
            "Maximum number of arrows: 2\n",
            "The sum of the following numbers is equal to 3: (1, 2)\n"
          ]
        }
      ]
    },
    {
      "cell_type": "code",
      "source": [
        "N = N_input()\n",
        "K = K_input()\n",
        "Ai = Ai_input(N)\n",
        "n = combine_arrows(Ai, K)"
      ],
      "metadata": {
        "colab": {
          "base_uri": "https://localhost:8080/"
        },
        "id": "UBZ7_Yz4DknW",
        "outputId": "96713e13-358d-4f19-8db1-b212fad7038d"
      },
      "execution_count": 3,
      "outputs": [
        {
          "output_type": "stream",
          "name": "stdout",
          "text": [
            "The number of arrows: 5\n",
            "The maximum cumulative distance the arrows can fly: 7\n",
            "Enter 5 integers representing the distances the arrows can fly: 5 4 2 2 3\n",
            "Maximum number of arrows: 3\n",
            "The sum of the following numbers is equal to 7: (2, 2, 3)\n"
          ]
        }
      ]
    }
  ]
}